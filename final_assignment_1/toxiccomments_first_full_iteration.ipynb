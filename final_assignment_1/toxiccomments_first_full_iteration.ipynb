{
 "cells": [
  {
   "cell_type": "markdown",
   "metadata": {},
   "source": [
    "# Toxic comments\n",
    "\n",
    "This notebook takes you though a complete iteration of Machine Learning Assignment 1 - Toxic comments. The assignment details (including links to download the data) can be found [here](https://docs.google.com/document/d/1WGYw99e5q6j5V0Zrf2HveagU6URt_kVvdR8B9HYQ99E/edit?usp=sharing). "
   ]
  },
  {
   "cell_type": "code",
   "execution_count": 1,
   "metadata": {},
   "outputs": [],
   "source": [
    "# all imports and magic commands\n",
    "import numpy as np\n",
    "import pandas as pd\n",
    "import matplotlib.pyplot as plt\n",
    "from my_measures import BinaryClassificationPerformance\n",
    "from sklearn.feature_extraction.text import HashingVectorizer\n",
    "#added countvectorizer\n",
    "from sklearn.feature_extraction.text import CountVectorizer\n",
    "from sklearn.feature_extraction.text import TfidfTransformer\n",
    "from scipy.sparse import csr_matrix, hstack\n",
    "from sklearn.preprocessing import StandardScaler\n",
    "from sklearn.model_selection import train_test_split\n",
    "%matplotlib inline"
   ]
  },
  {
   "cell_type": "markdown",
   "metadata": {},
   "source": [
    "### IMPORTANT!!! Make sure you are using `BinaryClassificationPerformance` v1.02"
   ]
  },
  {
   "cell_type": "code",
   "execution_count": 2,
   "metadata": {},
   "outputs": [
    {
     "name": "stdout",
     "output_type": "stream",
     "text": [
      "Help on class BinaryClassificationPerformance in module my_measures:\n",
      "\n",
      "class BinaryClassificationPerformance(builtins.object)\n",
      " |  BinaryClassificationPerformance(predictions, labels, desc, probabilities=None)\n",
      " |  \n",
      " |  Performance measures to evaluate the fit of a binary classification model, v1.02\n",
      " |  \n",
      " |  Methods defined here:\n",
      " |  \n",
      " |  __init__(self, predictions, labels, desc, probabilities=None)\n",
      " |      Initialize attributes: predictions-vector of predicted values for Y, labels-vector of labels for Y\n",
      " |  \n",
      " |  compute_measures(self)\n",
      " |      Compute performance measures defined by Flach p. 57\n",
      " |  \n",
      " |  img_indices(self)\n",
      " |      Get the indices of true and false positives to be able to locate the corresponding images in a list of image names\n",
      " |  \n",
      " |  ----------------------------------------------------------------------\n",
      " |  Data descriptors defined here:\n",
      " |  \n",
      " |  __dict__\n",
      " |      dictionary for instance variables (if defined)\n",
      " |  \n",
      " |  __weakref__\n",
      " |      list of weak references to the object (if defined)\n",
      "\n"
     ]
    }
   ],
   "source": [
    "help(BinaryClassificationPerformance)"
   ]
  },
  {
   "cell_type": "markdown",
   "metadata": {},
   "source": [
    "# Function for feature building and extraction on natural language data"
   ]
  },
  {
   "cell_type": "code",
   "execution_count": 3,
   "metadata": {},
   "outputs": [],
   "source": [
    "# function that takes raw data and completes all preprocessing required before model fits\n",
    "def process_raw_data(fn, my_random_seed, test=False):\n",
    "    # read and summarize data\n",
    "    toxic_data = pd.read_csv(fn)\n",
    "    if (not test):\n",
    "        # add an indicator for any toxic, severe toxic, obscene, threat, insult, or indentity hate\n",
    "        toxic_data['any_toxic'] = (toxic_data['toxic'] + toxic_data['severe_toxic'] + toxic_data['obscene'] + toxic_data['threat'] + toxic_data['insult'] + toxic_data['identity_hate'] > 0)\n",
    "    print(\"toxic_data is:\", type(toxic_data))\n",
    "    print(\"toxic_data has\", toxic_data.shape[0], \"rows and\", toxic_data.shape[1], \"columns\", \"\\n\")\n",
    "    print(\"the data types for each of the columns in toxic_data:\")\n",
    "    print(toxic_data.dtypes, \"\\n\")\n",
    "    print(\"the first 10 rows in toxic_data:\")\n",
    "    print(toxic_data.head(5))\n",
    "    if (not test):\n",
    "        print(\"The rate of 'toxic' Wikipedia comments in the dataset: \")\n",
    "        print(toxic_data['any_toxic'].mean())\n",
    "\n",
    "    # vectorize Bag of Words from review text; as sparse matrix\n",
    "    if (not test): # fit_transform()\n",
    "        hv = HashingVectorizer(n_features=2 ** 14, alternate_sign=False)\n",
    "        #cv = CountVectorizer()\n",
    "        X_hv = hv.fit_transform(toxic_data.comment_text)\n",
    "        fitted_transformations.append(hv)\n",
    "       # print(\"Shape of HashingVectorizer X:\")\n",
    "        print(\"Shape of CountVectorizer x: \")\n",
    "        print(X_hv.shape)\n",
    "    else: # transform() \n",
    "        X_hv = fitted_transformations[0].transform(toxic_data.comment_text)\n",
    "        print(\"Shape of HashingVectorizer X:\")\n",
    "        print(X_hv.shape)\n",
    "    \n",
    "    # http://scikit-learn.org/stable/modules/generated/sklearn.feature_extraction.text.TfidfTransformer.html\n",
    "    if (not test):\n",
    "        transformer = TfidfTransformer()\n",
    "        X_tfidf = transformer.fit_transform(X_hv)\n",
    "        fitted_transformations.append(transformer)\n",
    "    else:\n",
    "        X_tfidf = fitted_transformations[1].transform(X_hv)\n",
    "    \n",
    "    # create additional quantitative features\n",
    "    # features from Amazon.csv to add to feature set\n",
    "    toxic_data['word_count'] = toxic_data['comment_text'].str.split(' ').str.len()\n",
    "    toxic_data['punc_count'] = toxic_data['comment_text'].str.count(\"\\.\")\n",
    "    # should it be a boolean value? As str.find returns an index; how will a boolean be converted to 0 or 1\n",
    "    toxic_data['occur_fuck'] =(toxic_data['comment_text'].str.lower().str.count(\"fuck\"))\n",
    "    toxic_data['occur_shit'] =(toxic_data['comment_text'].str.lower().str.count(\"shit\"))\n",
    "    toxic_data['uppercase_letters'] = toxic_data['comment_text'].str.count(r'[A-Z]')\n",
    "    \n",
    "\n",
    "    X_quant_features = toxic_data[[\"word_count\", \"occur_fuck\", \"uppercase_letters\", \"punc_count\", \"occur_shit\"]]\n",
    "    print(\"Look at a few rows of the new quantitative features: \")\n",
    "    print(X_quant_features.head(10))\n",
    "    \n",
    "    # Combine all quantitative features into a single sparse matrix\n",
    "    X_quant_features_csr = csr_matrix(X_quant_features)\n",
    "    X_combined = hstack([X_tfidf, X_quant_features_csr])\n",
    "    X_matrix = csr_matrix(X_combined) # convert to sparse matrix\n",
    "    print(\"Size of combined bag of words and new quantitative variables matrix:\")\n",
    "    print(X_matrix.shape)\n",
    "    \n",
    "    # Create `X`, scaled matrix of features\n",
    "    # feature scaling\n",
    "    if (not test):\n",
    "        sc = StandardScaler(with_mean=False)\n",
    "        X = sc.fit_transform(X_matrix)\n",
    "        fitted_transformations.append(sc)\n",
    "        print(X.shape)\n",
    "        y = toxic_data['any_toxic']\n",
    "    else:\n",
    "        X = fitted_transformations[2].transform(X_matrix)\n",
    "        print(X.shape)\n",
    "    \n",
    "    # Create Training and Test Sets\n",
    "    # enter an integer for the random_state parameter; any integer will work\n",
    "    if (test):\n",
    "        X_submission_test = X\n",
    "        print(\"Shape of X_test for submission:\")\n",
    "        print(X_submission_test.shape)\n",
    "        print('SUCCESS!')\n",
    "        return(toxic_data, X_submission_test)\n",
    "    else: \n",
    "        X_train, X_test, y_train, y_test, X_raw_train, X_raw_test = train_test_split(X, y, toxic_data, test_size=0.2, random_state=my_random_seed)\n",
    "        print(\"Shape of X_train and X_test:\")\n",
    "        print(X_train.shape)\n",
    "        print(X_test.shape)\n",
    "        print(\"Shape of y_train and y_test:\")\n",
    "        print(y_train.shape)\n",
    "        print(y_test.shape)\n",
    "        print(\"Shape of X_raw_train and X_raw_test:\")\n",
    "        print(X_raw_train.shape)\n",
    "        print(X_raw_test.shape)\n",
    "        print('SUCCESS!')\n",
    "        return(X_train, X_test, y_train, y_test, X_raw_train, X_raw_test)"
   ]
  },
  {
   "cell_type": "markdown",
   "metadata": {},
   "source": [
    "# Create training and test sets from function"
   ]
  },
  {
   "cell_type": "code",
   "execution_count": 4,
   "metadata": {},
   "outputs": [
    {
     "name": "stdout",
     "output_type": "stream",
     "text": [
      "toxic_data is: <class 'pandas.core.frame.DataFrame'>\n",
      "toxic_data has 159571 rows and 9 columns \n",
      "\n",
      "the data types for each of the columns in toxic_data:\n",
      "id               object\n",
      "comment_text     object\n",
      "toxic             int64\n",
      "severe_toxic      int64\n",
      "obscene           int64\n",
      "threat            int64\n",
      "insult            int64\n",
      "identity_hate     int64\n",
      "any_toxic          bool\n",
      "dtype: object \n",
      "\n",
      "the first 10 rows in toxic_data:\n",
      "                 id                                       comment_text  toxic  \\\n",
      "0  0000997932d777bf  Explanation\\r\\nWhy the edits made under my use...      0   \n",
      "1  000103f0d9cfb60f  D'aww! He matches this background colour I'm s...      0   \n",
      "2  000113f07ec002fd  Hey man, I'm really not trying to edit war. It...      0   \n",
      "3  0001b41b1c6bb37e  \"\\r\\nMore\\r\\nI can't make any real suggestions...      0   \n",
      "4  0001d958c54c6e35  You, sir, are my hero. Any chance you remember...      0   \n",
      "\n",
      "   severe_toxic  obscene  threat  insult  identity_hate  any_toxic  \n",
      "0             0        0       0       0              0      False  \n",
      "1             0        0       0       0              0      False  \n",
      "2             0        0       0       0              0      False  \n",
      "3             0        0       0       0              0      False  \n",
      "4             0        0       0       0              0      False  \n",
      "The rate of 'toxic' Wikipedia comments in the dataset: \n",
      "0.10167887648758234\n",
      "Shape of CountVectorizer x: \n",
      "(159571, 16384)\n",
      "Look at a few rows of the new quantitative features: \n",
      "   word_count  occur_fuck  uppercase_letters  punc_count  occur_shit\n",
      "0          42           0                 17           5           0\n",
      "1          18           0                  8           2           0\n",
      "2          42           0                  4           3           0\n",
      "3         112           0                 11           3           0\n",
      "4          13           0                  2           1           0\n",
      "5          12           0                  1           1           0\n",
      "6           8           0                 37           0           0\n",
      "7          21           0                  4           2           0\n",
      "8          83           0                  7           7           0\n",
      "9          12           0                  2           0           0\n",
      "Size of combined bag of words and new quantitative variables matrix:\n",
      "(159571, 16389)\n",
      "(159571, 16389)\n",
      "Shape of X_train and X_test:\n",
      "(127656, 16389)\n",
      "(31915, 16389)\n",
      "Shape of y_train and y_test:\n",
      "(127656,)\n",
      "(31915,)\n",
      "Shape of X_raw_train and X_raw_test:\n",
      "(127656, 14)\n",
      "(31915, 14)\n",
      "SUCCESS!\n",
      "Number of fits stored in `fitted_transformations` list: \n",
      "3\n"
     ]
    }
   ],
   "source": [
    "# create an empty list to store any use of fit_transform() to transform() later\n",
    "# it is a global list to store model and feature extraction fits\n",
    "fitted_transformations = []\n",
    "\n",
    "# CHANGE FILE PATH and my_random_seed number (any integer other than 74 will do): \n",
    "X_train, X_test, y_train, y_test, X_raw_train, X_raw_test = process_raw_data(fn='toxiccomments_train.csv', my_random_seed=65)\n",
    "\n",
    "print(\"Number of fits stored in `fitted_transformations` list: \")\n",
    "print(len(fitted_transformations))"
   ]
  },
  {
   "cell_type": "markdown",
   "metadata": {},
   "source": [
    "# Fit (and tune) Various Models"
   ]
  },
  {
   "cell_type": "markdown",
   "metadata": {},
   "source": [
    "### MODEL: ordinary least squares"
   ]
  },
  {
   "cell_type": "code",
   "execution_count": 1,
   "metadata": {},
   "outputs": [
    {
     "ename": "NameError",
     "evalue": "name 'X_train' is not defined",
     "output_type": "error",
     "traceback": [
      "\u001b[1;31m---------------------------------------------------------------------------\u001b[0m",
      "\u001b[1;31mNameError\u001b[0m                                 Traceback (most recent call last)",
      "\u001b[1;32m<ipython-input-1-ca2b6b2175f6>\u001b[0m in \u001b[0;36m<module>\u001b[1;34m\u001b[0m\n\u001b[0;32m      1\u001b[0m \u001b[1;32mfrom\u001b[0m \u001b[0msklearn\u001b[0m \u001b[1;32mimport\u001b[0m \u001b[0mlinear_model\u001b[0m\u001b[1;33m\u001b[0m\u001b[1;33m\u001b[0m\u001b[0m\n\u001b[0;32m      2\u001b[0m \u001b[0mols\u001b[0m \u001b[1;33m=\u001b[0m \u001b[0mlinear_model\u001b[0m\u001b[1;33m.\u001b[0m\u001b[0mSGDClassifier\u001b[0m\u001b[1;33m(\u001b[0m\u001b[0mloss\u001b[0m\u001b[1;33m=\u001b[0m\u001b[1;34m\"squared_loss\"\u001b[0m\u001b[1;33m)\u001b[0m\u001b[1;33m\u001b[0m\u001b[1;33m\u001b[0m\u001b[0m\n\u001b[1;32m----> 3\u001b[1;33m \u001b[0mols\u001b[0m\u001b[1;33m.\u001b[0m\u001b[0mfit\u001b[0m\u001b[1;33m(\u001b[0m\u001b[0mX_train\u001b[0m\u001b[1;33m,\u001b[0m \u001b[0my_train\u001b[0m\u001b[1;33m)\u001b[0m\u001b[1;33m\u001b[0m\u001b[1;33m\u001b[0m\u001b[0m\n\u001b[0m\u001b[0;32m      4\u001b[0m \u001b[1;33m\u001b[0m\u001b[0m\n\u001b[0;32m      5\u001b[0m \u001b[0mols_performance_train\u001b[0m \u001b[1;33m=\u001b[0m \u001b[0mBinaryClassificationPerformance\u001b[0m\u001b[1;33m(\u001b[0m\u001b[0mols\u001b[0m\u001b[1;33m.\u001b[0m\u001b[0mpredict\u001b[0m\u001b[1;33m(\u001b[0m\u001b[0mX_train\u001b[0m\u001b[1;33m)\u001b[0m\u001b[1;33m,\u001b[0m \u001b[0my_train\u001b[0m\u001b[1;33m,\u001b[0m \u001b[1;34m'ols_train'\u001b[0m\u001b[1;33m)\u001b[0m\u001b[1;33m\u001b[0m\u001b[1;33m\u001b[0m\u001b[0m\n",
      "\u001b[1;31mNameError\u001b[0m: name 'X_train' is not defined"
     ]
    }
   ],
   "source": [
    "from sklearn import linear_model\n",
    "ols = linear_model.SGDClassifier(loss=\"squared_loss\")\n",
    "ols.fit(X_train, y_train)\n",
    "\n",
    "ols_performance_train = BinaryClassificationPerformance(ols.predict(X_train), y_train, 'ols_train')\n",
    "ols_performance_train.compute_measures()\n",
    "print(ols_performance_train.performance_measures)"
   ]
  },
  {
   "cell_type": "markdown",
   "metadata": {},
   "source": [
    "### MODEL: SVM, linear"
   ]
  },
  {
   "cell_type": "code",
   "execution_count": 5,
   "metadata": {},
   "outputs": [
    {
     "name": "stdout",
     "output_type": "stream",
     "text": [
      "{'Pos': 13071, 'Neg': 114585, 'TP': 12342, 'TN': 113878, 'FP': 707, 'FN': 729, 'Accuracy': 0.9887510183618474, 'Precision': 0.9458196030347154, 'Recall': 0.9442276795960524, 'desc': 'svm_train'}\n"
     ]
    }
   ],
   "source": [
    "from sklearn import linear_model\n",
    "svm = linear_model.SGDClassifier()\n",
    "svm.fit(X_train, y_train)\n",
    "\n",
    "svm_performance_train = BinaryClassificationPerformance(svm.predict(X_train), y_train, 'svm_train')\n",
    "svm_performance_train.compute_measures()\n",
    "print(svm_performance_train.performance_measures)"
   ]
  },
  {
   "cell_type": "markdown",
   "metadata": {},
   "source": [
    "### MODEL: logistic regression"
   ]
  },
  {
   "cell_type": "code",
   "execution_count": 6,
   "metadata": {},
   "outputs": [
    {
     "name": "stdout",
     "output_type": "stream",
     "text": [
      "{'Pos': 13071, 'Neg': 114585, 'TP': 12340, 'TN': 113923, 'FP': 662, 'FN': 731, 'Accuracy': 0.9890878611267783, 'Precision': 0.9490847561913551, 'Recall': 0.9440746691148344, 'desc': 'lgs_train'}\n"
     ]
    }
   ],
   "source": [
    "from sklearn import linear_model\n",
    "lgs = linear_model.SGDClassifier(loss='log')\n",
    "lgs.fit(X_train, y_train)\n",
    "\n",
    "lgs_performance_train = BinaryClassificationPerformance(lgs.predict(X_train), y_train, 'lgs_train')\n",
    "lgs_performance_train.compute_measures()\n",
    "print(lgs_performance_train.performance_measures)"
   ]
  },
  {
   "cell_type": "markdown",
   "metadata": {},
   "source": [
    "### MODEL: Naive Bayes"
   ]
  },
  {
   "cell_type": "code",
   "execution_count": 7,
   "metadata": {},
   "outputs": [
    {
     "name": "stdout",
     "output_type": "stream",
     "text": [
      "{'Pos': 13071, 'Neg': 114585, 'TP': 11958, 'TN': 99754, 'FP': 14831, 'FN': 1113, 'Accuracy': 0.8751018361847465, 'Precision': 0.4463772443913547, 'Recall': 0.9148496672022034, 'desc': 'nbs_train'}\n"
     ]
    }
   ],
   "source": [
    "from sklearn.naive_bayes import MultinomialNB\n",
    "nbs = MultinomialNB()\n",
    "nbs.fit(X_train, y_train)\n",
    "\n",
    "nbs_performance_train = BinaryClassificationPerformance(nbs.predict(X_train), y_train, 'nbs_train')\n",
    "nbs_performance_train.compute_measures()\n",
    "print(nbs_performance_train.performance_measures)"
   ]
  },
  {
   "cell_type": "markdown",
   "metadata": {},
   "source": [
    "### MODEL: Perceptron"
   ]
  },
  {
   "cell_type": "code",
   "execution_count": 8,
   "metadata": {},
   "outputs": [
    {
     "name": "stdout",
     "output_type": "stream",
     "text": [
      "{'Pos': 13071, 'Neg': 114585, 'TP': 12175, 'TN': 113761, 'FP': 824, 'FN': 896, 'Accuracy': 0.98652628940277, 'Precision': 0.9366105085006539, 'Recall': 0.9314513044143524, 'desc': 'prc_train'}\n"
     ]
    }
   ],
   "source": [
    "from sklearn import linear_model\n",
    "prc = linear_model.SGDClassifier(loss='perceptron')\n",
    "prc.fit(X_train, y_train)\n",
    "\n",
    "prc_performance_train = BinaryClassificationPerformance(prc.predict(X_train), y_train, 'prc_train')\n",
    "prc_performance_train.compute_measures()\n",
    "print(prc_performance_train.performance_measures)"
   ]
  },
  {
   "cell_type": "markdown",
   "metadata": {},
   "source": [
    "### MODEL: Ridge Regression Classifier"
   ]
  },
  {
   "cell_type": "code",
   "execution_count": 9,
   "metadata": {},
   "outputs": [
    {
     "name": "stdout",
     "output_type": "stream",
     "text": [
      "{'Pos': 13071, 'Neg': 114585, 'TP': 8347, 'TN': 114183, 'FP': 402, 'FN': 4724, 'Accuracy': 0.9598452089991854, 'Precision': 0.9540518916447595, 'Recall': 0.6385892433631704, 'desc': 'rdg01_train'}\n"
     ]
    }
   ],
   "source": [
    "from sklearn import linear_model\n",
    "#try small numbers 0.1 or something\n",
    "#try multiple ridge models\n",
    "rdg01 = linear_model.RidgeClassifier()\n",
    "rdg01.fit(X_train, y_train)\n",
    "\n",
    "rdg01_performance_train = BinaryClassificationPerformance(rdg01.predict(X_train), y_train, 'rdg01_train')\n",
    "rdg01_performance_train.compute_measures()\n",
    "print(rdg01_performance_train.performance_measures)"
   ]
  },
  {
   "cell_type": "code",
   "execution_count": null,
   "metadata": {},
   "outputs": [],
   "source": [
    "\n",
    "#try small numbers 0.1 or something\n",
    "#try multiple ridge models\n",
    "rdg02 = linear_model.RidgeClassifier(alpha=0.034)\n",
    "rdg02.fit(X_train, y_train)\n",
    "\n",
    "rdg02_performance_train = BinaryClassificationPerformance(rdg02.predict(X_train), y_train, 'rdg02_train')\n",
    "rdg02_performance_train.compute_measures()\n",
    "print(rdg02_performance_train.performance_measures)"
   ]
  },
  {
   "cell_type": "code",
   "execution_count": null,
   "metadata": {},
   "outputs": [],
   "source": [
    "\n",
    "rdg03 = linear_model.RidgeClassifier(alpha=0.15)\n",
    "rdg03.fit(X_train, y_train)\n",
    "\n",
    "rdg03_performance_train = BinaryClassificationPerformance(rdg03.predict(X_train), y_train, 'rdg03_train')\n",
    "rdg03_performance_train.compute_measures()\n",
    "print(rdg03_performance_train.performance_measures)\n"
   ]
  },
  {
   "cell_type": "code",
   "execution_count": null,
   "metadata": {},
   "outputs": [],
   "source": [
    "\n",
    "rdg04 = linear_model.RidgeClassifier(alpha=0.35)\n",
    "rdg04.fit(X_train, y_train)\n",
    "\n",
    "rdg04_performance_train = BinaryClassificationPerformance(rdg04.predict(X_train), y_train, 'rdg04_train')\n",
    "rdg04_performance_train.compute_measures()\n",
    "print(rdg04_performance_train.performance_measures)\n",
    "\n"
   ]
  },
  {
   "cell_type": "code",
   "execution_count": null,
   "metadata": {},
   "outputs": [],
   "source": [
    "\n",
    "rdg05 = linear_model.RidgeClassifier(alpha=1.25)\n",
    "rdg05.fit(X_train, y_train)\n",
    "\n",
    "rdg05_performance_train = BinaryClassificationPerformance(rdg04.predict(X_train), y_train, 'rdg05_train')\n",
    "rdg05_performance_train.compute_measures()\n",
    "print(rdg05_performance_train.performance_measures)\n",
    "\n"
   ]
  },
  {
   "cell_type": "markdown",
   "metadata": {},
   "source": [
    "### MODEL: Random Forest Classifier"
   ]
  },
  {
   "cell_type": "code",
   "execution_count": 10,
   "metadata": {},
   "outputs": [
    {
     "name": "stdout",
     "output_type": "stream",
     "text": [
      "{'Pos': 13071, 'Neg': 114585, 'TP': 0, 'TN': 114585, 'FP': 0, 'FN': 13071, 'Accuracy': 0.8976076330137244, 'Precision': nan, 'Recall': 0.0, 'desc': 'rdf_train'}\n"
     ]
    },
    {
     "name": "stderr",
     "output_type": "stream",
     "text": [
      "C:\\Users\\jills\\Documents\\Machine Learning\\ml\\final_assignment_1\\my_measures.py:25: RuntimeWarning: invalid value encountered in longlong_scalars\n",
      "  self.performance_measures['Precision'] = self.performance_measures['TP'] / (self.performance_measures['TP'] + self.performance_measures['FP'])\n"
     ]
    }
   ],
   "source": [
    "from sklearn.ensemble import RandomForestClassifier\n",
    "rdf = RandomForestClassifier(max_depth=2, random_state=0)\n",
    "rdf.fit(X_train, y_train)\n",
    "\n",
    "rdf_performance_train = BinaryClassificationPerformance(rdf.predict(X_train), y_train, 'rdf_train')\n",
    "rdf_performance_train.compute_measures()\n",
    "print(rdf_performance_train.performance_measures)"
   ]
  },
  {
   "cell_type": "markdown",
   "metadata": {},
   "source": [
    "### Model SVC"
   ]
  },
  {
   "cell_type": "code",
   "execution_count": 23,
   "metadata": {},
   "outputs": [],
   "source": [
    "from sklearn.svm import LinearSVC \n",
    "\n",
    "#set alphas and arrays\n",
    "C_val = [0.01, 0.0005, 0.0000001, 0.5, 0.025]\n",
    "svc={}\n",
    "svc_train={}\n",
    "\n",
    "\n",
    "for i in range(5):\n",
    "    svc[i] = LinearSVC(C=C_val[i])\n",
    "    svc[i].fit(X_train, y_train)\n",
    "    svc_train[i] = BinaryClassificationPerformance(svc[i].predict(X_train), y_train, (str(C_val[i])))\n",
    "    svc_train[i].compute_measures()"
   ]
  },
  {
   "cell_type": "code",
   "execution_count": 24,
   "metadata": {},
   "outputs": [
    {
     "name": "stdout",
     "output_type": "stream",
     "text": [
      "{'Pos': 13071, 'Neg': 114585, 'TP': 12414, 'TN': 114207, 'FP': 378, 'FN': 657, 'Accuracy': 0.9918922729836436, 'Precision': 0.9704502814258912, 'Recall': 0.949736056919899, 'desc': '0.01'}\n",
      "{'Pos': 13071, 'Neg': 114585, 'TP': 11543, 'TN': 114009, 'FP': 576, 'FN': 1528, 'Accuracy': 0.9835182051764116, 'Precision': 0.9524713260169981, 'Recall': 0.8830999923494759, 'desc': '0.0005'}\n",
      "{'Pos': 13071, 'Neg': 114585, 'TP': 596, 'TN': 114585, 'FP': 0, 'FN': 12475, 'Accuracy': 0.902276430406718, 'Precision': 1.0, 'Recall': 0.045597123402953105, 'desc': '1e-07'}\n",
      "{'Pos': 13071, 'Neg': 114585, 'TP': 12061, 'TN': 113618, 'FP': 967, 'FN': 1010, 'Accuracy': 0.9845130663658582, 'Precision': 0.9257752533005834, 'Recall': 0.9227297069849285, 'desc': '0.5'}\n",
      "{'Pos': 13071, 'Neg': 114585, 'TP': 12540, 'TN': 114216, 'FP': 369, 'FN': 531, 'Accuracy': 0.9929498025944726, 'Precision': 0.9714152916569835, 'Recall': 0.9593757172366307, 'desc': '0.025'}\n"
     ]
    }
   ],
   "source": [
    "for i in range(5):\n",
    "    print(svc_train[i].performance_measures)"
   ]
  },
  {
   "cell_type": "markdown",
   "metadata": {},
   "source": [
    "### ROC plot to compare performance of various C values in Linear SVC"
   ]
  },
  {
   "cell_type": "code",
   "execution_count": 26,
   "metadata": {
    "scrolled": false
   },
   "outputs": [
    {
     "data": {
      "image/png": "[encoded data removed]",
      "text/plain": [
       "<Figure size 432x288 with 1 Axes>"
      ]
     },
     "metadata": {
      "needs_background": "light"
     },
     "output_type": "display_data"
    }
   ],
   "source": [
    "#fits = [rdg01_performance_train,rdg02_performance_train,rdg03_performance_train,rdg04_performance_train,rdg05_performance_train]\n",
    "#fits = [rdf_performance_train,rdg02_performance_train,prc_performance_train,nbs_performance_train,lgs_performance_train,svm_performance_train,ols_performance_train]\n",
    "\n",
    "for i in range(5):\n",
    "    plt.plot(svc_train[i].performance_measures['FP'] / svc_train[i].performance_measures['Neg'], \n",
    "             svc_train[i].performance_measures['TP'] / svc_train[i].performance_measures['Pos'], 'bo')\n",
    "    plt.text(svc_train[i].performance_measures['FP'] / svc_train[i].performance_measures['Neg'], \n",
    "             svc_train[i].performance_measures['TP'] / svc_train[i].performance_measures['Pos'], svc_train[i].desc)\n",
    "plt.axis([0, 0.1, 0.8, 1])\n",
    "plt.title('ROC plot for LinearSVC: training set')\n",
    "plt.xlabel('False positive rate')\n",
    "plt.ylabel('True positive rate')\n",
    "plt.show()"
   ]
  },
  {
   "cell_type": "markdown",
   "metadata": {},
   "source": [
    "### looking at reviews based on their classification\n",
    "\n",
    "Let's say we decide that Ordinary Least Squares (OLS) Regression is the best model for generalization. Let's take a look at some of the reviews and try to make a (subjective) determination of whether it's generalizing well. "
   ]
  },
  {
   "cell_type": "markdown",
   "metadata": {},
   "source": [
    "### let's look at some false positives:"
   ]
  },
  {
   "cell_type": "code",
   "execution_count": null,
   "metadata": {},
   "outputs": [],
   "source": [
    "ols_predictions = ols.predict(X_train)"
   ]
  },
  {
   "cell_type": "code",
   "execution_count": null,
   "metadata": {},
   "outputs": [],
   "source": [
    "# false positives\n",
    "\n",
    "print(\"Examples of false positives:\")\n",
    "\n",
    "import random, time\n",
    "\n",
    "for i in range(0, len(ols_predictions)):\n",
    "    if (ols_predictions[i] == 1):\n",
    "        if (X_raw_train.iloc[i]['any_toxic'] == 0):\n",
    "            if (random.uniform(0, 1) < 0.05): # to print only 5% of the false positives\n",
    "                print(i)\n",
    "                print(X_raw_train.iloc[i]['comment_text'])\n",
    "                print('* * * * * * * * * ')\n"
   ]
  },
  {
   "cell_type": "markdown",
   "metadata": {},
   "source": [
    "---\n",
    "\n",
    "# <span style=\"color:red\">WARNING: Don't look at test set performance too much!</span>\n",
    "\n",
    "---\n",
    "\n",
    "The following cells show performance on your test set. Do not look at this too often! "
   ]
  },
  {
   "cell_type": "markdown",
   "metadata": {},
   "source": [
    "# Look at performance on the test set"
   ]
  },
  {
   "cell_type": "code",
   "execution_count": 27,
   "metadata": {},
   "outputs": [
    {
     "name": "stdout",
     "output_type": "stream",
     "text": [
      "{'Pos': 3154, 'Neg': 28761, 'TP': 2124, 'TN': 27255, 'FP': 1506, 'FN': 1030, 'Accuracy': 0.9205389315368949, 'Precision': 0.5851239669421487, 'Recall': 0.673430564362714, 'desc': '0.01'}\n",
      "{'Pos': 3154, 'Neg': 28761, 'TP': 2161, 'TN': 27822, 'FP': 939, 'FN': 993, 'Accuracy': 0.9394642017859941, 'Precision': 0.6970967741935484, 'Recall': 0.6851616994292962, 'desc': '0.0005'}\n",
      "{'Pos': 3154, 'Neg': 28761, 'TP': 129, 'TN': 28760, 'FP': 1, 'FN': 3025, 'Accuracy': 0.9051856493811687, 'Precision': 0.9923076923076923, 'Recall': 0.0409004438807863, 'desc': '1e-07'}\n",
      "{'Pos': 3154, 'Neg': 28761, 'TP': 2051, 'TN': 26925, 'FP': 1836, 'FN': 1103, 'Accuracy': 0.9079116402945323, 'Precision': 0.5276562901980962, 'Recall': 0.650285351934052, 'desc': '0.5'}\n",
      "{'Pos': 3154, 'Neg': 28761, 'TP': 2108, 'TN': 27091, 'FP': 1670, 'FN': 1046, 'Accuracy': 0.9148989503368322, 'Precision': 0.5579671784012705, 'Recall': 0.6683576410906785, 'desc': '0.025'}\n"
     ]
    }
   ],
   "source": [
    "svc_test = {}\n",
    "\n",
    "for i in range(5):\n",
    "    svc_test[i] = BinaryClassificationPerformance(svc[i].predict(X_test), y_test, (str(C_val[i])))\n",
    "    svc_test[i].compute_measures()\n",
    "    print(svc_test[i].performance_measures)"
   ]
  },
  {
   "cell_type": "code",
   "execution_count": 33,
   "metadata": {},
   "outputs": [
    {
     "data": {
      "image/png": "[encoded data removed]",
      "text/plain": [
       "<Figure size 432x288 with 1 Axes>"
      ]
     },
     "metadata": {
      "needs_background": "light"
     },
     "output_type": "display_data"
    }
   ],
   "source": [
    "for i in range(5):\n",
    "    plt.plot(svc_train[i].performance_measures['FP'] / svc_train[i].performance_measures['Neg'], \n",
    "             svc_train[i].performance_measures['TP'] / svc_train[i].performance_measures['Pos'], 'bo')\n",
    "    plt.text(svc_train[i].performance_measures['FP'] / svc_train[i].performance_measures['Neg'], \n",
    "             svc_train[i].performance_measures['TP'] / svc_train[i].performance_measures['Pos'], svc_train[i].desc)\n",
    "    plt.plot(svc_test[i].performance_measures['FP'] / svc_test[i].performance_measures['Neg'], \n",
    "             svc_test[i].performance_measures['TP'] / svc_test[i].performance_measures['Pos'], 'ro')\n",
    "    plt.text(svc_test[i].performance_measures['FP'] / svc_test[i].performance_measures['Neg'], \n",
    "             svc_test[i].performance_measures['TP'] / svc_test[i].performance_measures['Pos'], svc_train[i].desc)\n",
    "plt.axis([0, 0.2, 0.6, 1])\n",
    "plt.title('ROC plot for LinearSVC: train and test set')\n",
    "plt.xlabel('False positive rate')\n",
    "plt.ylabel('True positive rate')\n",
    "plt.show()"
   ]
  },
  {
   "cell_type": "markdown",
   "metadata": {},
   "source": [
    "### MODEL: ordinary least squares"
   ]
  },
  {
   "cell_type": "code",
   "execution_count": null,
   "metadata": {},
   "outputs": [],
   "source": [
    "ols_performance_test = BinaryClassificationPerformance(ols.predict(X_test), y_test, 'ols_test')\n",
    "ols_performance_test.compute_measures()\n",
    "print(ols_performance_test.performance_measures)"
   ]
  },
  {
   "cell_type": "markdown",
   "metadata": {},
   "source": [
    "### MODEL: SVM, linear"
   ]
  },
  {
   "cell_type": "code",
   "execution_count": 11,
   "metadata": {},
   "outputs": [
    {
     "name": "stdout",
     "output_type": "stream",
     "text": [
      "{'Pos': 3154, 'Neg': 28761, 'TP': 2137, 'TN': 27225, 'FP': 1536, 'FN': 1017, 'Accuracy': 0.9200062666457779, 'Precision': 0.5818132316907161, 'Recall': 0.6775523145212429, 'desc': 'svm_test'}\n"
     ]
    }
   ],
   "source": [
    "svm_performance_test = BinaryClassificationPerformance(svm.predict(X_test), y_test, 'svm_test')\n",
    "svm_performance_test.compute_measures()\n",
    "print(svm_performance_test.performance_measures)"
   ]
  },
  {
   "cell_type": "markdown",
   "metadata": {},
   "source": [
    "### MODEL: logistic regression"
   ]
  },
  {
   "cell_type": "code",
   "execution_count": 12,
   "metadata": {},
   "outputs": [
    {
     "name": "stdout",
     "output_type": "stream",
     "text": [
      "{'Pos': 3154, 'Neg': 28761, 'TP': 2117, 'TN': 27232, 'FP': 1529, 'FN': 1037, 'Accuracy': 0.9195989346702178, 'Precision': 0.5806363137685134, 'Recall': 0.6712111604311984, 'desc': 'lgs_test'}\n"
     ]
    }
   ],
   "source": [
    "lgs_performance_test = BinaryClassificationPerformance(lgs.predict(X_test), y_test, 'lgs_test')\n",
    "lgs_performance_test.compute_measures()\n",
    "print(lgs_performance_test.performance_measures)"
   ]
  },
  {
   "cell_type": "markdown",
   "metadata": {},
   "source": [
    "### MODEL: Naive Bayes"
   ]
  },
  {
   "cell_type": "code",
   "execution_count": 13,
   "metadata": {},
   "outputs": [
    {
     "name": "stdout",
     "output_type": "stream",
     "text": [
      "{'Pos': 3154, 'Neg': 28761, 'TP': 2307, 'TN': 24730, 'FP': 4031, 'FN': 847, 'Accuracy': 0.8471565094783018, 'Precision': 0.3639949510886715, 'Recall': 0.7314521242866202, 'desc': 'nbs_test'}\n"
     ]
    }
   ],
   "source": [
    "nbs_performance_test = BinaryClassificationPerformance(nbs.predict(X_test), y_test, 'nbs_test')\n",
    "nbs_performance_test.compute_measures()\n",
    "print(nbs_performance_test.performance_measures)"
   ]
  },
  {
   "cell_type": "markdown",
   "metadata": {},
   "source": [
    "### MODEL: Perceptron"
   ]
  },
  {
   "cell_type": "code",
   "execution_count": 14,
   "metadata": {},
   "outputs": [
    {
     "name": "stdout",
     "output_type": "stream",
     "text": [
      "{'Pos': 3154, 'Neg': 28761, 'TP': 2109, 'TN': 27239, 'FP': 1522, 'FN': 1045, 'Accuracy': 0.9195676014413285, 'Precision': 0.5808317267970257, 'Recall': 0.6686746987951807, 'desc': 'prc_test'}\n"
     ]
    }
   ],
   "source": [
    "prc_performance_test = BinaryClassificationPerformance(prc.predict(X_test), y_test, 'prc_test')\n",
    "prc_performance_test.compute_measures()\n",
    "print(prc_performance_test.performance_measures)"
   ]
  },
  {
   "cell_type": "markdown",
   "metadata": {},
   "source": [
    "### MODEL: Ridge Regression Classifier"
   ]
  },
  {
   "cell_type": "code",
   "execution_count": 15,
   "metadata": {},
   "outputs": [
    {
     "name": "stdout",
     "output_type": "stream",
     "text": [
      "{'Pos': 3154, 'Neg': 28761, 'TP': 1745, 'TN': 28536, 'FP': 225, 'FN': 1409, 'Accuracy': 0.9488015039949866, 'Precision': 0.8857868020304569, 'Recall': 0.5532656943563729, 'desc': 'rdg01_test'}\n"
     ]
    }
   ],
   "source": [
    "rdg01_performance_test = BinaryClassificationPerformance(rdg01.predict(X_test), y_test, 'rdg01_test')\n",
    "rdg01_performance_test.compute_measures()\n",
    "print(rdg01_performance_test.performance_measures)"
   ]
  },
  {
   "cell_type": "code",
   "execution_count": null,
   "metadata": {},
   "outputs": [],
   "source": [
    "rdg02_performance_test = BinaryClassificationPerformance(rdg02.predict(X_test), y_test, 'rdg02_test')\n",
    "rdg02_performance_test.compute_measures()\n",
    "\n",
    "print(rdg02_performance_test.performance_measures)"
   ]
  },
  {
   "cell_type": "code",
   "execution_count": null,
   "metadata": {},
   "outputs": [],
   "source": [
    "rdg03_performance_test = BinaryClassificationPerformance(rdg03.predict(X_test), y_test, 'rdg03_test')\n",
    "rdg03_performance_test.compute_measures()\n",
    "\n",
    "print(rdg03_performance_test.performance_measures)"
   ]
  },
  {
   "cell_type": "code",
   "execution_count": null,
   "metadata": {},
   "outputs": [],
   "source": [
    "rdg04_performance_test = BinaryClassificationPerformance(rdg04.predict(X_test), y_test, 'rdg04_test')\n",
    "rdg04_performance_test.compute_measures()\n",
    "\n",
    "print(rdg04_performance_test.performance_measures)"
   ]
  },
  {
   "cell_type": "code",
   "execution_count": null,
   "metadata": {},
   "outputs": [],
   "source": [
    "rdg05_performance_test = BinaryClassificationPerformance(rdg05.predict(X_test), y_test, 'rdg05_test')\n",
    "rdg05_performance_test.compute_measures()\n",
    "\n",
    "print(rdg05_performance_test.performance_measures)"
   ]
  },
  {
   "cell_type": "markdown",
   "metadata": {},
   "source": [
    "### MODEL: Random Forest Classifier"
   ]
  },
  {
   "cell_type": "code",
   "execution_count": null,
   "metadata": {},
   "outputs": [],
   "source": [
    "rdf_performance_test = BinaryClassificationPerformance(rdf.predict(X_test), y_test, 'rdf_test')\n",
    "rdf_performance_test.compute_measures()\n",
    "print(rdf_performance_test.performance_measures)"
   ]
  },
  {
   "cell_type": "markdown",
   "metadata": {},
   "source": [
    "### ROC plot to compare performance of various models and fits"
   ]
  },
  {
   "cell_type": "code",
   "execution_count": null,
   "metadata": {},
   "outputs": [],
   "source": [
    "fits = [ols_performance_test, svm_performance_test, lgs_performance_test, nbs_performance_test, prc_performance_test, rdg01_performance_test, rdf_performance_test]\n",
    "\n",
    "#fits = [rdg01_performance_test,rdg02_performance_test,rdg03_performance_test,rdg04_performance_test,rdg05_performance_test]\n",
    "for fit in fits:\n",
    "    plt.plot(fit.performance_measures['FP'] / fit.performance_measures['Neg'], \n",
    "             fit.performance_measures['TP'] / fit.performance_measures['Pos'], 'bo')\n",
    "    plt.text(fit.performance_measures['FP'] / fit.performance_measures['Neg'], \n",
    "             fit.performance_measures['TP'] / fit.performance_measures['Pos'], fit.desc)\n",
    "plt.axis([0, 1, 0, 1])\n",
    "plt.title('ROC plot: test set')\n",
    "plt.xlabel('False positive rate')\n",
    "plt.ylabel('True positive rate')\n",
    "plt.show()"
   ]
  },
  {
   "cell_type": "markdown",
   "metadata": {},
   "source": [
    "## Comparison plots for various models"
   ]
  },
  {
   "cell_type": "code",
   "execution_count": null,
   "metadata": {},
   "outputs": [],
   "source": [
    "fits = [ols_performance_train, svm_performance_train, \n",
    "        lgs_performance_train, nbs_performance_train, prc_performance_train, rdg01_performance_train, rdf_performance_train]\n",
    "fits2 = [ols_performance_test, svm_performance_test, \n",
    "        lgs_performance_test, nbs_performance_test, prc_performance_test, rdg01_performance_test, rdf_performance_train]\n",
    "\n",
    "plt.figure(figsize=(10,4))\n",
    "\n",
    "plt.subplot(1, 2, 1)\n",
    "for fit in fits:\n",
    "    plt.barh(fit.desc, fit.performance_measures['Accuracy'], color=['tab:blue'])\n",
    "    plt.title('Compare Model Accuracy - Train set')\n",
    "\n",
    "plt.subplot(1, 2, 2)\n",
    "for fit in fits2:\n",
    "    plt.barh(fit.desc, fit.performance_measures['Accuracy'], color=['tab:green'])\n",
    "    plt.title('Compare Model Accuracy - Test set')\n",
    "    \n",
    "plt.tight_layout()\n",
    "plt.show()"
   ]
  },
  {
   "cell_type": "markdown",
   "metadata": {},
   "source": [
    "---\n",
    "\n",
    "# <span style=\"color:red\">SUBMISSION</span>\n",
    "\n",
    "---"
   ]
  },
  {
   "cell_type": "code",
   "execution_count": null,
   "metadata": {},
   "outputs": [],
   "source": [
    "# read in test data for submission\n",
    "# CHANGE FILE PATH and my_random_seed number (any integer other than 74 will do): \n",
    "raw_data, X_test_submission = process_raw_data(fn='toxiccomments_test.csv', my_random_seed=74, test=True)\n",
    "print(\"Number of rows in the submission test set (should be 153,164): \")"
   ]
  },
  {
   "cell_type": "markdown",
   "metadata": {},
   "source": [
    "---\n",
    "\n",
    "Choose a <span style=\"color:red\">*single*</span> model for your submission. In this code, I am choosing the Ordinary Least Squares model fit, which is in the `ols` object. But you should choose the model that is performing the best for you! "
   ]
  },
  {
   "cell_type": "code",
   "execution_count": null,
   "metadata": {},
   "outputs": [],
   "source": [
    "# store the id from the raw data\n",
    "my_submission = pd.DataFrame(raw_data[\"id\"])\n",
    "# concatenate predictions to the id\n",
    "my_submission[\"prediction\"] = ols.predict(X_test_submission)\n",
    "# look at the proportion of positive predictions\n",
    "print(my_submission['prediction'].mean())"
   ]
  },
  {
   "cell_type": "code",
   "execution_count": null,
   "metadata": {},
   "outputs": [],
   "source": [
    "raw_data.head()"
   ]
  },
  {
   "cell_type": "code",
   "execution_count": null,
   "metadata": {},
   "outputs": [],
   "source": [
    "my_submission.head()"
   ]
  },
  {
   "cell_type": "code",
   "execution_count": null,
   "metadata": {},
   "outputs": [],
   "source": [
    "my_submission.shape"
   ]
  },
  {
   "cell_type": "code",
   "execution_count": null,
   "metadata": {},
   "outputs": [],
   "source": [
    "# export submission file as pdf\n",
    "# CHANGE FILE PATH: \n",
    "my_submission.to_csv('toxiccomments_submission.csv', index=False)"
   ]
  },
  {
   "cell_type": "markdown",
   "metadata": {},
   "source": [
    "# Submit to Canvas: 1) the CSV file that was written in the previous cell and 2) the url to the repository (GitHub or other) that contains your code and documentation"
   ]
  }
 ],
 "metadata": {
  "kernelspec": {
   "display_name": "Python 3",
   "language": "python",
   "name": "python3"
  },
  "language_info": {
   "codemirror_mode": {
    "name": "ipython",
    "version": 3
   },
   "file_extension": ".py",
   "mimetype": "text/x-python",
   "name": "python",
   "nbconvert_exporter": "python",
   "pygments_lexer": "ipython3",
   "version": "3.7.7"
  }
 },
 "nbformat": 4,
 "nbformat_minor": 2
}
