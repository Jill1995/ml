{
 "cells": [
  {
   "cell_type": "code",
   "execution_count": 1,
   "metadata": {},
   "outputs": [],
   "source": [
    "import numpy as np\n",
    "import pandas as pd\n",
    "import matplotlib.pyplot as plt\n",
    "%matplotlib inline"
   ]
  },
  {
   "cell_type": "markdown",
   "metadata": {},
   "source": [
    "### read the raw data"
   ]
  },
  {
   "cell_type": "code",
   "execution_count": 3,
   "metadata": {},
   "outputs": [
    {
     "ename": "SyntaxError",
     "evalue": "(unicode error) 'unicodeescape' codec can't decode bytes in position 2-3: truncated \\UXXXXXXXX escape (<ipython-input-3-8727ffe4aee7>, line 1)",
     "output_type": "error",
     "traceback": [
      "\u001b[1;36m  File \u001b[1;32m\"<ipython-input-3-8727ffe4aee7>\"\u001b[1;36m, line \u001b[1;32m1\u001b[0m\n\u001b[1;33m    data = pd.read_csv('C:\\Users\\jills\\Documents\\Machine Learning\\ml\\definitions\\definitions.csv')\u001b[0m\n\u001b[1;37m                      ^\u001b[0m\n\u001b[1;31mSyntaxError\u001b[0m\u001b[1;31m:\u001b[0m (unicode error) 'unicodeescape' codec can't decode bytes in position 2-3: truncated \\UXXXXXXXX escape\n"
     ]
    }
   ],
   "source": [
    "data = pd.read_csv('C:\\Users\\jills\\Documents\\Machine Learning\\ml\\definitions\\definitions.csv')\n",
    "\n",
    "# create a boolean indicator =True if the definition is of \"machine learning\"\n",
    "data['ml'] = data['term'] == 'machine learning'\n",
    "\n",
    "print(data.dtypes)\n",
    "print(data.head(10))"
   ]
  },
  {
   "cell_type": "markdown",
   "metadata": {},
   "source": [
    "### <span style=\"color:red\">create feature set X (matrix) and vector of labels L</span>\n",
    "\n",
    "Use [feature extraction methods in scikit-learn](http://scikit-learn.org/stable/modules/feature_extraction.html#text-feature-extraction) to *vectorize* the text of machine learning/AI definitions into an X matrix. "
   ]
  },
  {
   "cell_type": "code",
   "execution_count": 3,
   "metadata": {},
   "outputs": [
    {
     "name": "stdout",
     "output_type": "stream",
     "text": [
      "(164, 774)\n"
     ]
    }
   ],
   "source": [
    "from sklearn.feature_extraction.text import CountVectorizer\n",
    "\n",
    "L = data[\"ml\"] # labels\n",
    "corpus = data['definition'] # corpus of reviews in words\n",
    "vectorizer = CountVectorizer()\n",
    "X = vectorizer.fit_transform(corpus)\n",
    "print(X.shape)"
   ]
  },
  {
   "cell_type": "markdown",
   "metadata": {},
   "source": [
    "### let's look at the words in the corpus of \"definition\""
   ]
  },
  {
   "cell_type": "code",
   "execution_count": 4,
   "metadata": {},
   "outputs": [
    {
     "name": "stdout",
     "output_type": "stream",
     "text": [
      "774\n",
      "* * * * *\n",
      "{'automatic': 60, 'or': 456, 'semi': 577, 'updating': 729, 'of': 448, 'equations': 219, 'parameters': 473, 'using': 734, 'algorithms': 25, 'automated': 59, 'parameter': 472, 'curve': 155, 'response': 557, 'surface': 648, 'fitting': 255, 'method': 409, 'to': 699, 'train': 704, 'machine': 385, 'any': 38, 'kind': 350, 'in': 319, 'human': 306, 'manner': 395, 'achieve': 8, 'the': 676, 'goal': 275, 'copying': 142, 'behavior': 74, 'even': 223, 'better': 81, 'than': 674, 'regular': 548, 'being': 77, 'pattern': 477, 'recognition': 540, 'through': 695, 'set': 586, 'constantly': 139, 'modifying': 421, 'rules': 563, 'learning': 367, 'is': 346, 'predictive': 499, 'computational': 133, 'based': 68, 'on': 450, 'training': 706, 'model': 416, 'ml': 414, 'algorithm': 23, 'data': 158, 'followed': 257, 'by': 92, 'an': 33, 'optimization': 455, 'process': 509, 'whereby': 754, 'tested': 672, 'with': 764, 'test': 671, 'increase': 322, 'accuracy': 7, 'prediction': 497, 'development': 178, 'functions': 264, 'made': 387, 'patterns': 478, 'found': 260, 'application': 40, 'sort': 614, 'and': 37, 'categorize': 102, 'supervised': 645, 'unsupervised': 726, 'it': 347, 'way': 744, 'comb': 121, 'large': 362, 'sets': 587, 'very': 739, 'quickly': 530, 'reduce': 544, 'labor': 360, 'where': 753, 'paired': 471, 'can': 96, 'be': 69, 'trained': 705, 'perform': 481, 'useful': 733, 'function': 263, 'that': 675, 'describes': 172, 'find': 250, 'introducing': 342, 'computer': 134, 'systems': 655, 'understand': 722, 'recognize': 541, 'real': 537, 'world': 767, 'aggregating': 19, 'information': 327, 'order': 457, 'generate': 268, 'synthesize': 652, 'new': 437, 'insights': 332, 'program': 513, 'complete': 128, 'certain': 104, 'tasks': 660, 'automatically': 61, 'having': 293, 'learn': 365, 'get': 271, 'at': 55, 'recognizing': 542, 'such': 641, 'how': 304, 'react': 533, 'solve': 606, 'those': 691, 'situations': 598, 'subset': 638, 'practice': 492, 'artificial': 45, 'intelligence': 334, 'which': 756, 'improves': 317, 'ingesting': 328, 'computers': 135, 'making': 393, 'decisions': 163, 'inputs': 331, 'ability': 2, 'for': 258, 'identify': 310, 'something': 611, 'groups': 281, 'been': 71, 'whether': 755, 'visual': 743, 'language': 361, 'creating': 147, 'teach': 662, 'programmable': 515, 'processes': 510, 'used': 732, 'classify': 115, 'various': 738, 'kinds': 351, 'images': 312, 'numbers': 443, 'text': 673, 'etc': 222, 'about': 4, 'object': 444, 'criteria': 151, 'given': 273, 'task': 659, 'when': 752, 'provided': 525, 'examples': 227, 'performance': 482, 'measures': 408, 'make': 391, 'predictions': 498, 'let': 370, 'read': 536, 'lot': 384, 'conclude': 136, 'itself': 349, 'then': 679, 'encounter': 210, 'deal': 161, 'some': 608, 'are': 42, 'skill': 599, 'machines': 386, 'take': 656, 'statements': 625, 'see': 574, 'things': 686, 'taught': 661, 'them': 678, 'do': 190, 'translating': 708, 'creation': 148, 'intelligent': 335, 'reduces': 545, 'errors': 221, 'most': 424, 'times': 698, 'makes': 392, 'tedious': 667, 'easier': 200, 'us': 730, 'able': 3, 'adapt': 13, 'they': 683, 'programmed': 516, 'applying': 41, 'amount': 32, 'meaningful': 405, 'output': 466, 'from': 262, 'datasets': 159, 'so': 602, 'similar': 595, 'other': 461, 'could': 144, 'people': 479, 'statistics': 628, 'filtering': 248, 'system': 654, 'distinguishes': 189, 'technology': 666, 'work': 766, 'run': 564, 'under': 720, 'logic': 382, 'era': 220, 'weak': 746, 'ai': 21, 'finish': 252, 'single': 597, 'also': 30, 'multi': 429, 'same': 567, 'time': 697, 'computation': 132, 'allows': 29, 'inferences': 326, 'known': 359, 'historical': 301, 'unique': 724, 'input': 330, 'definition': 167, 'success': 639, 'but': 91, 'has': 291, 'flexibility': 256, 'defining': 166, 'gets': 272, 'successful': 640, 'solution': 604, 'its': 348, 'masses': 398, 'this': 690, 'past': 475, 'points': 487, 'outcomes': 464, 'predict': 495, 'future': 265, 'ones': 452, 'calculating': 93, 'you': 771, 'likely': 376, 'interested': 340, 'your': 773, 'history': 302, 'via': 741, 'algorithmic': 24, 'processing': 511, 'digital': 185, 'means': 406, 'explore': 237, 'collect': 119, 'define': 164, 'models': 419, 'help': 297, 'suggestions': 642, 'commonalities': 126, 'these': 682, 'encounters': 211, 'we': 745, 'beings': 78, 'teaching': 663, 'statistic': 626, 'experiments': 235, 'problems': 508, 'smart': 600, 'classification': 114, 'analysis': 34, 'organization': 459, 'type': 715, 'done': 194, 'statistical': 627, 'modeling': 418, 'generated': 269, 'learned': 366, 'self': 576, 'previous': 503, 'existing': 231, 'mainly': 389, 'big': 84, 'source': 616, 'predictability': 496, 'experience': 233, 'usually': 735, 'use': 731, 'techniques': 664, 'facilitating': 241, 'selection': 575, 'service': 585, 'extracting': 239, 'target': 658, 'features': 243, 'descriptive': 173, 'routines': 562, 'assess': 51, 'sample': 568, 'try': 714, 'general': 266, 'population': 488, 'learns': 368, 'code': 117, 'eliminating': 204, 'need': 436, 'hardcoding': 290, 'everything': 225, 'programm': 514, 'taking': 657, 'sum': 643, 'mostly': 425, 'created': 146, 'curated': 152, 'finding': 251, 'own': 470, 'between': 82, 'individual': 323, 'samples': 569, 'ultimately': 718, 'coming': 125, 'up': 727, 'might': 410, 'not': 441, 'sense': 578, 'generally': 267, 'comes': 124, 'different': 180, 'thought': 692, 'humans': 308, 'have': 292, 'giving': 274, 'agency': 18, 'evolve': 226, 'over': 469, 'efficiency': 201, 'safety': 566, 'higher': 298, 'quality': 529, 'pursuit': 527, 'inorganic': 329, 'entity': 217, 'goals': 276, 'improvise': 318, 'pathways': 476, 'attain': 57, 'mathematical': 399, 'occur': 447, 'software': 603, 'allow': 27, 'programs': 518, 'change': 105, 'outputs': 467, 'calibration': 95, 'experiences': 234, 'ubiquitous': 716, 'presence': 500, 'intuitive': 343, 'starts': 624, 'me': 402, 'as': 46, 'aid': 22, 'tool': 702, 'much': 428, 'like': 375, 'invention': 344, 'wheel': 750, 'changed': 106, 'life': 374, 'our': 462, 'ancestors': 36, 'knew': 356, 'changing': 107, 'know': 357, 'base': 67, 'study': 635, 'providing': 526, 'special': 618, 'acting': 11, 'prior': 505, 'knowledge': 358, 'interacted': 337, 'assumptions': 54, 'act': 9, 'generative': 270, 'supported': 646, 'underlying': 721, 'framework': 261, 'enabling': 209, 'advanced': 16, 'recommendation': 543, 'complicated': 130, 'if': 311, 'mimics': 412, 'thinks': 689, 'thinking': 688, 'route': 561, 'tries': 711, 'emulate': 206, 'think': 687, 'enough': 214, 'chose': 112, 'infer': 325, 'what': 748, 'previously': 504, 'brain': 87, 'producing': 512, 'solutions': 605, 'would': 768, 'mimic': 411, 'best': 80, 'case': 99, 'scenario': 571, 'designed': 174, 'enhance': 213, 'autonomous': 62, 'reinforcing': 550, 'capable': 98, 'originated': 460, 'non': 439, 'linear': 379, 'updated': 728, 'complex': 129, 'umbrella': 719, 'term': 669, 'all': 26, 'subgenres': 636, 'includes': 320, 'one': 451, 'destination': 175, 'actually': 12, 'more': 423, 'create': 145, 'potentially': 490, 'access': 6, 'allowing': 28, 'man': 394, 'builds': 90, 'throughout': 696, 'series': 583, 'pretends': 502, 'without': 765, 'brains': 88, 'main': 388, 'ultimate': 717, 'collecting': 120, 'analyzing': 35, 'whatever': 749, 'true': 713, 'conscious': 137, 'unobserved': 725, 'really': 538, 'mean': 403, 'phrase': 485, 'good': 278, 'marketing': 397, 'attempts': 58, 'problem': 507, 'modeled': 417, 'after': 17, 'mind': 413, 'show': 590, 'exhibit': 229, 'group': 280, 'ask': 48, 'repetitive': 553, 'may': 400, 'creative': 149, 'customer': 156, 'currently': 154, 'defined': 165, 'differently': 182, 'depending': 170, 'who': 761, 'refers': 546, 'capability': 97, 'intelligently': 336, 'creatively': 150, 'modify': 420, 'including': 321, 'improve': 315, 'adapted': 14, 'come': 123, 'decision': 162, 'setting': 588, 'someone': 610, 'relevant': 552, 'older': 449, 'sibling': 591, 'highly': 299, 'virtual': 742, 'robot': 560, 'handle': 289, 'later': 364, 'terms': 670, 'interchangeably': 339, 'final': 249, 'solving': 607, 'presented': 501, 'feeding': 244, 'into': 341, 'calibrated': 94, 'variabled': 737, 'structures': 634, 'progressively': 519, 'refines': 547, 'corrects': 143, 'each': 198, 'subsequent': 637, 'piece': 486, 'technological': 665, 'domain': 192, 'enabled': 208, 'prompted': 521, 'acted': 10, 'humane': 307, 'characteristic': 108, 'imagine': 313, 'entities': 216, 'larger': 363, 'backed': 65, 'science': 572, 'went': 747, 'above': 5, 'beyond': 83, 'objects': 445, 'expand': 232, 'respond': 556, 'explicit': 236, 'instruction': 333, 'several': 589, 'aspirational': 50, 'projects': 520, 'current': 153, 'constitute': 140, 'narrow': 433, 'agi': 20, 'aspiration': 49, 'emulation': 207, 'superintelligence': 644, 'asi': 47, 'enterprise': 215, 'exceeding': 228, 'however': 305, 'there': 680, 'does': 191, 'exist': 230, 'consensus': 138, 'precise': 494, 'understanding': 723, 'comparative': 127, 'definitions': 168, 'difficult': 183, 'combined': 122, 'reinforced': 549, 'improved': 316, 'synonymous': 651, 'many': 396, 'cases': 100, 'had': 286, 'differentiate': 181, 'say': 570, 'composition': 131, 'simulate': 596, 'interaction': 338, 'requires': 554, 'level': 371, 'synthetic': 653, 'reacts': 535, 'grow': 282, 'library': 372, 'behave': 73, 'emotionally': 205, 'programming': 517, 'behaviors': 75, 'responses': 558, 'number': 442, 'imitate': 314, 'surpass': 649, 'adaptive': 15, 'abilities': 1, 'power': 491, 'signify': 594, 'my': 431, 'opinion': 454, 'assistant': 52, 'fields': 247, 'deliberately': 169, 'trigger': 712, 'specific': 619, 'behaviour': 76, 'reactions': 534, 'realm': 539, 'rather': 531, 'probably': 506, 'describe': 171, 'yet': 770, 'somehow': 609, 'still': 631, 'possess': 489, 'form': 259, 'pre': 493, 'don': 193, 'whiskers': 758, 'kitty': 355, 'cat': 101, 'sounds': 615, 'name': 432, 'cats': 103, 'python': 528, 'long': 383, 'hairs': 288, 'side': 592, 'nose': 440, 'aaron': 0, 'wrote': 769, 'monitor': 422, 'his': 300, 'pet': 484, 'while': 757, 'he': 294, 'away': 63, 'vacation': 736, 'guess': 284, 'related': 551, 'outliers': 465, 'no': 438, 'idea': 309, 'google': 279, 'translate': 707, 'out': 463, 'translucent': 709, 'sometimes': 612, 'spiky': 621, 'threads': 693, 'around': 44, 'mouth': 426, 'area': 43, 'little': 381, 'cute': 157, 'face': 240, 'sure': 647, 'baby': 64, 'sensing': 579, 'environment': 218, 'specifically': 620, 'check': 109, 'head': 295, 'body': 86, 'fit': 254, 'opening': 453, 'thick': 684, 'protrude': 523, 'young': 772, 'lil': 377, 'feline': 246, 'sensors': 581, 'width': 762, 'perception': 480, 'device': 179, 'kitties': 354, 'wispy': 763, 'white': 760, 'clear': 116, 'dont': 195, 'kitten': 352, 'drinking': 196, 'whiskey': 759, 'running': 565, 'drunk': 197, 'external': 238, 'sensory': 582, 'organ': 458, 'hair': 287, 'sensitive': 580, 'detection': 177, 'search': 573, 'mmmm': 415, 'sorry': 613, 'diminutive': 186, 'infant': 324, 'part': 474, 'resemble': 555, 'therefore': 681, 'heard': 296, 'today': 700, 'first': 253, 'protector': 522, 'lines': 380, 'chicks': 111, 'black': 85, 'thin': 685, 'eventually': 224, 'fall': 242, 'symmetrical': 650, 'left': 369, 'right': 559, 'growing': 283, 'near': 435, 'kittens': 353, 'beating': 70, 'raw': 532, 'eggs': 202, 'feelers': 245, 'spokes': 623, 'spoke': 622, 'attached': 56, 'wheels': 751, 'going': 277, 'limitations': 378, 'strands': 632, 'guessing': 285, 'early': 199, 'before': 72, 'tell': 668, 'their': 677, 'detect': 176, 'movements': 427, 'spaces': 617, 'navigational': 434, 'assume': 53, 'tools': 703, 'stear': 629, 'direction': 187, 'cheeks': 110, 'stiff': 630, 'belonging': 79, 'snout': 601, 'three': 694, 'either': 203, 'sides': 593, 'measure': 407, 'distance': 188, 'difficulty': 184, 'maintaining': 390, 'balance': 66, 'mustache': 430, 'pertains': 483, 'coding': 118, 'honestly': 303, 'tree': 710, 'structure': 633, 'involves': 345, 'branching': 89, 'apart': 39, 'english': 212, 'meaning': 404, 'although': 31, 'context': 141, 'class': 113, 'obviously': 446, 'maybe': 401, 'dateset': 160, 'vexing': 740, 'licking': 373, 'outside': 468, 'protrusions': 524, 'serve': 584, 'too': 701}\n"
     ]
    }
   ],
   "source": [
    "print(len(vectorizer.vocabulary_))\n",
    "print(\"* * * * *\")\n",
    "print(vectorizer.vocabulary_)"
   ]
  },
  {
   "cell_type": "markdown",
   "metadata": {},
   "source": [
    "### <span style=\"color:red\">fit X, L to SVM using gradient descent</span>\n",
    "\n",
    "[gradient descent documentation](http://scikit-learn.org/stable/modules/generated/sklearn.linear_model.SGDClassifier.html)"
   ]
  },
  {
   "cell_type": "code",
   "execution_count": 5,
   "metadata": {},
   "outputs": [
    {
     "data": {
      "text/plain": [
       "SGDClassifier(alpha=0.0001, average=False, class_weight=None,\n",
       "              early_stopping=False, epsilon=0.1, eta0=0.0, fit_intercept=True,\n",
       "              l1_ratio=0.15, learning_rate='optimal', loss='hinge',\n",
       "              max_iter=1000, n_iter_no_change=5, n_jobs=None, penalty='l2',\n",
       "              power_t=0.5, random_state=None, shuffle=True, tol=0.001,\n",
       "              validation_fraction=0.1, verbose=0, warm_start=False)"
      ]
     },
     "execution_count": 5,
     "metadata": {},
     "output_type": "execute_result"
    }
   ],
   "source": [
    "# fit SVM linear classifier\n",
    "from sklearn import linear_model\n",
    "sgd = linear_model.SGDClassifier()\n",
    "sgd.fit(X, L)"
   ]
  },
  {
   "cell_type": "markdown",
   "metadata": {},
   "source": [
    "### assess performance"
   ]
  },
  {
   "cell_type": "code",
   "execution_count": 6,
   "metadata": {},
   "outputs": [
    {
     "name": "stdout",
     "output_type": "stream",
     "text": [
      "{'Pos': 54, 'Neg': 110, 'TP': 54, 'TN': 110, 'FP': 0, 'FN': 0, 'Accuracy': 1.0, 'Precision': 1.0, 'Recall': 1.0, 'desc': 'sgd'}\n"
     ]
    }
   ],
   "source": [
    "# look at performance measures\n",
    "import my_measures\n",
    "\n",
    "performance_measures = my_measures.BinaryClassificationPerformance(sgd.predict(X), L, 'sgd')\n",
    "performance_measures.compute_measures()\n",
    "print(performance_measures.performance_measures)"
   ]
  },
  {
   "cell_type": "markdown",
   "metadata": {},
   "source": [
    "![](https://upload.wikimedia.org/wikipedia/commons/thumb/2/26/Precisionrecall.svg/350px-Precisionrecall.svg.png)\n",
    "\n",
    "[source](https://en.wikipedia.org/wiki/Precision_and_recall)"
   ]
  },
  {
   "cell_type": "markdown",
   "metadata": {
    "collapsed": true
   },
   "source": [
    "### test model on unseen definitions"
   ]
  },
  {
   "cell_type": "code",
   "execution_count": 7,
   "metadata": {},
   "outputs": [
    {
     "name": "stdout",
     "output_type": "stream",
     "text": [
      "Machine learning is a field of computer science that gives computers the ability to learn without being explicitly programmed.\n",
      "* * *\n",
      "Machine learning is an application of artificial intelligence (AI) that provides systems the ability to automatically learn and improve from experience without being explicitly programmed. Machine learning focuses on the development of computer programs that can access data and use it learn for themselves.\n",
      "* * *\n",
      "Machine Learning is the science of getting computers to learn and act like humans do, and improve their learning over time in autonomous fashion, by feeding them data and information in the form of observations and real-world interactions.\n",
      "* * *\n"
     ]
    }
   ],
   "source": [
    "# machine learning definitions\n",
    "# Wikipedia, Expert System, Tech Emergence\n",
    "ml_defs = [\"Machine learning is a field of computer science that gives computers the ability to learn without being explicitly programmed.\",\n",
    "          \"Machine learning is an application of artificial intelligence (AI) that provides systems the ability to automatically learn and improve from experience without being explicitly programmed. Machine learning focuses on the development of computer programs that can access data and use it learn for themselves.\",\n",
    "          \"Machine Learning is the science of getting computers to learn and act like humans do, and improve their learning over time in autonomous fashion, by feeding them data and information in the form of observations and real-world interactions.\"]\n",
    "\n",
    "for d in ml_defs:\n",
    "    print(d)\n",
    "    print(\"* * *\")"
   ]
  },
  {
   "cell_type": "code",
   "execution_count": 8,
   "metadata": {},
   "outputs": [
    {
     "name": "stdout",
     "output_type": "stream",
     "text": [
      "Artificial intelligence (AI, also machine intelligence, MI) is intelligence demonstrated by machines, in contrast to the natural intelligence (NI) displayed by humans and other animals.\n",
      "* * *\n",
      "the theory and development of computer systems able to perform tasks that normally require human intelligence, such as visual perception, speech recognition, decision-making, and translation between languages\n",
      "* * *\n"
     ]
    }
   ],
   "source": [
    "# AI definitions\n",
    "# Wikipedia, Oxford dictionary\n",
    "ai_defs = [\"Artificial intelligence (AI, also machine intelligence, MI) is intelligence demonstrated by machines, in contrast to the natural intelligence (NI) displayed by humans and other animals.\",\n",
    "          \"the theory and development of computer systems able to perform tasks that normally require human intelligence, such as visual perception, speech recognition, decision-making, and translation between languages\"]\n",
    "\n",
    "for d in ai_defs:\n",
    "    print(d)\n",
    "    print(\"* * *\")"
   ]
  },
  {
   "cell_type": "code",
   "execution_count": 9,
   "metadata": {},
   "outputs": [
    {
     "name": "stdout",
     "output_type": "stream",
     "text": [
      "A kitten, also known as a kitty or kitty cat, is a juvenile cat.\n",
      "* * *\n",
      "The piano is an acoustic, stringed musical instrument invented in Italy by Bartolomeo Cristofori around the year 1700 in which the strings are struck by hammers.\n",
      "* * *\n",
      "a small gadget or mechanical device, especially one whose name is unknown or unspecified\n",
      "* * *\n"
     ]
    }
   ],
   "source": [
    "# Definitions of unrelated things: kitten, piano, widget\n",
    "other_defs = [\"A kitten, also known as a kitty or kitty cat, is a juvenile cat.\",\n",
    "             \"The piano is an acoustic, stringed musical instrument invented in Italy by Bartolomeo Cristofori around the year 1700 in which the strings are struck by hammers.\",\n",
    "             \"a small gadget or mechanical device, especially one whose name is unknown or unspecified\"]\n",
    "\n",
    "for d in other_defs:\n",
    "    print(d)\n",
    "    print(\"* * *\")"
   ]
  },
  {
   "cell_type": "markdown",
   "metadata": {},
   "source": [
    "### function to transform new definitions to a X vector"
   ]
  },
  {
   "cell_type": "code",
   "execution_count": 10,
   "metadata": {},
   "outputs": [],
   "source": [
    "def get_prediction(definition):\n",
    "    text_x = vectorizer.transform([definition]).toarray()\n",
    "    return(sgd.predict(text_x))"
   ]
  },
  {
   "cell_type": "markdown",
   "metadata": {},
   "source": [
    "### view predicted classifications of new definitions"
   ]
  },
  {
   "cell_type": "code",
   "execution_count": 11,
   "metadata": {},
   "outputs": [
    {
     "name": "stdout",
     "output_type": "stream",
     "text": [
      "Model predictions for 'machine learning' definitions:\n",
      "[False]\n",
      "[False]\n",
      "[ True]\n",
      "* * *\n",
      "Model predictions for 'AI' definitions:\n",
      "[False]\n",
      "[False]\n",
      "* * *\n",
      "Model predictions for other definitions (kitten, piano, widget):\n",
      "[False]\n",
      "[ True]\n",
      "[False]\n"
     ]
    }
   ],
   "source": [
    "print(\"Model predictions for 'machine learning' definitions:\")\n",
    "for mld in ml_defs:\n",
    "    print(get_prediction(mld))\n",
    "    \n",
    "print(\"* * *\")\n",
    "print(\"Model predictions for 'AI' definitions:\")\n",
    "for aid in ai_defs:\n",
    "    print(get_prediction(aid))\n",
    "\n",
    "print(\"* * *\")\n",
    "print(\"Model predictions for other definitions (kitten, piano, widget):\")\n",
    "for otherd in other_defs:\n",
    "    print(get_prediction(otherd))"
   ]
  },
  {
   "cell_type": "code",
   "execution_count": null,
   "metadata": {},
   "outputs": [],
   "source": []
  }
 ],
 "metadata": {
  "kernelspec": {
   "display_name": "Python 3",
   "language": "python",
   "name": "python3"
  },
  "language_info": {
   "codemirror_mode": {
    "name": "ipython",
    "version": 3
   },
   "file_extension": ".py",
   "mimetype": "text/x-python",
   "name": "python",
   "nbconvert_exporter": "python",
   "pygments_lexer": "ipython3",
   "version": "3.7.7"
  }
 },
 "nbformat": 4,
 "nbformat_minor": 1
}
